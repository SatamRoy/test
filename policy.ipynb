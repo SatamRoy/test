{
 "cells": [
  {
   "cell_type": "markdown",
   "id": "c97c288b",
   "metadata": {},
   "source": [
    "## Let's Define OCLR Policy"
   ]
  },
  {
   "cell_type": "code",
   "execution_count": null,
   "id": "b71d689c",
   "metadata": {},
   "outputs": [],
   "source": [
    "from torch.optim.lr_scheduler import OneCycleLR\n",
    "\n",
    "from torch_lr_finder import LRFinder"
   ]
  },
  {
   "cell_type": "code",
   "execution_count": null,
   "id": "61e24c45",
   "metadata": {},
   "outputs": [],
   "source": [
    "\n",
    "\n",
    "# Initialize the network\n",
    "model =  model.to(device)\n",
    "\n",
    "\n",
    "\n",
    "# Define the loss function and optimizer\n",
    "criterion = nn.CrossEntropyLoss()\n",
    "optimizer = optim.Adam(model.parameters())\n",
    "\n",
    "# Find learning rate\n",
    "lr_finder = LRFinder(model, optimizer, criterion, device=device)\n",
    "#lr_finder.range_test(train, end_lr=100, num_iter=100)\n",
    "lr_finder.range_test(train_loader, end_lr=100, num_iter=100)\n",
    "lr_finder.plot() # to inspect the loss-learning rate graph\n",
    "lr_finder.reset() # to reset the model and optimizer to their initial state\n",
    "\n",
    "# Get the best loss and its corresponding learning rate\n",
    "best_loss = lr_finder.best_loss\n",
    "best_lr = lr_finder.history[\"lr\"][lr_finder.history[\"loss\"].index(best_loss)]\n",
    "print(\"Best Loss: %s\\nBest Learning Rate: %s\" % (best_loss, best_lr))\n",
    "\n",
    "# Assuming best_lr is the suitable learning rate, we can use it as LR_MAX\n",
    "LR_MAX = best_lr\n",
    "LR_MIN = LR_MAX / 10\n",
    "\n",
    "# Define the One Cycle Policy\n",
    "scheduler = OneCycleLR(optimizer, max_lr=LR_MAX, steps_per_epoch=len(train_loader), epochs=24, pct_start=5/24, anneal_strategy='linear', div_factor=LR_MAX/LR_MIN, final_div_factor=1.0)\n"
   ]
  }
 ],
 "metadata": {
  "kernelspec": {
   "display_name": "Python 3 (ipykernel)",
   "language": "python",
   "name": "python3"
  },
  "language_info": {
   "codemirror_mode": {
    "name": "ipython",
    "version": 3
   },
   "file_extension": ".py",
   "mimetype": "text/x-python",
   "name": "python",
   "nbconvert_exporter": "python",
   "pygments_lexer": "ipython3",
   "version": "3.11.5"
  }
 },
 "nbformat": 4,
 "nbformat_minor": 5
}
