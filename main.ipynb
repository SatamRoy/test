{
 "cells": [
  {
   "cell_type": "markdown",
   "id": "1e007ade",
   "metadata": {},
   "source": [
    "## Import All Libraries"
   ]
  },
  {
   "cell_type": "code",
   "execution_count": null,
   "id": "03ad2ae9",
   "metadata": {},
   "outputs": [],
   "source": [
    "from __future__ import print_function\n",
    "import torch\n",
    "import torchvision\n",
    "import torch.nn as nn\n",
    "import torch.nn.functional as F\n",
    "import torch.optim as optim\n",
    "from torchvision import datasets, transforms\n",
    "!pip install torch-lr-finder\n",
    "\n",
    "from albumentations.pytorch import ToTensorV2\n",
    "import random"
   ]
  },
  {
   "cell_type": "code",
   "execution_count": null,
   "id": "c47d8dca",
   "metadata": {},
   "outputs": [],
   "source": [
    "from utility import train, test, train_loader, test_loader\n",
    "from policy import OneCycleLR"
   ]
  },
  {
   "cell_type": "markdown",
   "id": "341788ca",
   "metadata": {},
   "source": [
    "## Load the Dataset"
   ]
  },
  {
   "cell_type": "markdown",
   "id": "484a7d17",
   "metadata": {},
   "source": [
    "train = CIFAR10Dataset('./data', transform=train_transforms)\n",
    "test = CIFAR10Dataset('./data', transform=test_transforms)"
   ]
  },
  {
   "cell_type": "markdown",
   "id": "3c06d220",
   "metadata": {},
   "source": [
    "## Train The Model"
   ]
  },
  {
   "cell_type": "code",
   "execution_count": null,
   "id": "26b66fa3",
   "metadata": {},
   "outputs": [],
   "source": [
    "max_lr = 0.1\n",
    "min_lr = 0.001\n",
    "\n",
    "EPOCHS = 24\n",
    "# Initialize the OneCycleLR scheduler\n",
    "optimizer = optim.Adam(model.parameters(), lr=0.02)\n",
    "scheduler = OneCycleLR(optimizer, max_lr=max_lr, total_steps=len(train_loader) * EPOCHS,\n",
    "                       epochs=EPOCHS, steps_per_epoch=len(train_loader), pct_start=0.3)\n",
    "\n",
    "# Training loop\n",
    "for epoch in range(EPOCHS):\n",
    "    print(\"EPOCH:\", epoch)\n",
    "    print(\"Learning Rate:\", scheduler.get_lr()[0])\n",
    "\n",
    "    train(model, device, train_loader, optimizer, epoch)\n",
    "    test(model, device, test_loader)\n",
    "    scheduler.step()"
   ]
  }
 ],
 "metadata": {
  "kernelspec": {
   "display_name": "Python 3 (ipykernel)",
   "language": "python",
   "name": "python3"
  },
  "language_info": {
   "codemirror_mode": {
    "name": "ipython",
    "version": 3
   },
   "file_extension": ".py",
   "mimetype": "text/x-python",
   "name": "python",
   "nbconvert_exporter": "python",
   "pygments_lexer": "ipython3",
   "version": "3.11.5"
  }
 },
 "nbformat": 4,
 "nbformat_minor": 5
}
